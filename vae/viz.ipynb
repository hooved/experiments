{
 "cells": [
  {
   "cell_type": "code",
   "execution_count": null,
   "id": "8a9452a7-ed4e-4457-9332-47e9a5b30191",
   "metadata": {},
   "outputs": [],
   "source": [
    "from PIL import Image\n",
    "from pathlib import Path\n",
    "TRAIN_IMG_DIR=\"/raid/datasets/imagenet/train/n03733281\"\n",
    "EVAL_IMG_DIR=\"/raid/datasets/imagenet/val/n03733281\""
   ]
  },
  {
   "cell_type": "code",
   "execution_count": null,
   "id": "b61b5c19-7fce-4dd9-b1af-67d53879b07e",
   "metadata": {},
   "outputs": [],
   "source": [
    "train_files = sorted([f for f in Path(TRAIN_IMG_DIR).iterdir() if f.is_file()])"
   ]
  },
  {
   "cell_type": "code",
   "execution_count": null,
   "id": "20083956-4f2e-4916-911e-663a61bd91f4",
   "metadata": {},
   "outputs": [],
   "source": [
    "i = 46\n",
    "im = Image.open(train_files[i])\n",
    "display(im)\n",
    "print((im.height, im.width))"
   ]
  },
  {
   "cell_type": "code",
   "execution_count": null,
   "id": "32063199-97c4-4f76-b30e-3ad197ed5342",
   "metadata": {},
   "outputs": [],
   "source": [
    "from torchvision.io import ImageReadMode, decode_image\n",
    "i = 46\n",
    "im = decode_image(train_files[i], mode=ImageReadMode.RGB)"
   ]
  }
 ],
 "metadata": {
  "kernelspec": {
   "display_name": "Python 3 (ipykernel)",
   "language": "python",
   "name": "python3"
  },
  "language_info": {
   "codemirror_mode": {
    "name": "ipython",
    "version": 3
   },
   "file_extension": ".py",
   "mimetype": "text/x-python",
   "name": "python",
   "nbconvert_exporter": "python",
   "pygments_lexer": "ipython3",
   "version": "3.12.3"
  }
 },
 "nbformat": 4,
 "nbformat_minor": 5
}
